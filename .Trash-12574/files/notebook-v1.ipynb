{
    "cells": [
        {
            "cell_type": "markdown",
            "id": "header-cell",
            "metadata": {},
            "source": [
                "# Flow Predictor with MLflow Integration\n",
                "\n",
                "This notebook implements MLflow tracking for the flow predictor model."
            ]
        },
        {
            "cell_type": "code",
            "execution_count": null,
            "id": "import-cell",
            "metadata": {},
            "source": [
                "# Import section - add MLflow imports\n",
                "import keras\n",
                "from keras.models import Model\n",
                "from keras import backend as K\n",
                "from keras.layers import (\n",
                "    Input, \n",
                "    concatenate, \n",
                "    Conv2D,\n",
                "    MaxPooling2D,\n",
                "    Conv2DTranspose,\n",
                "    ZeroPadding2D\n",
                ")\n",
                "from tensorflow.keras.layers import Input, Conv2D, MaxPooling2D, Reshape, Dense, Flatten\n",
                "\n",
                "import vtk\n",
                "from vtm_data import VTK_data\n",
                "import numpy as np\n",
                "import matplotlib.pyplot as plt\n",
                "from pathlib import Path\n",
                "import os\n",
                "import mlflow\n",
                "import mlflow.keras\n",
                "\n",
                "# Create experiment\n",
                "mlflow.set_experiment(\"Flow_Predictor_Training\")\n",
                "\n",
                "# Enable MLflow autologging\n",
                "mlflow.keras.autolog(\n",
                "    log_models=True,\n",
                "    log_model_signatures=True,\n",
                "    log_input_examples=True,\n",
                "    registered_model_name=\"flow_predictor\"\n",
                ")"
            ]
        }
    ],
    "metadata": {
        "kernelspec": {
            "display_name": "Python 3",
            "language": "python",
            "name": "python3"
        },
        "language_info": {
            "codemirror_mode": {
                "name": "ipython",
                "version": 3
            },
            "file_extension": ".py",
            "mimetype": "text/x-python",
            "name": "python",
            "nbconvert_exporter": "python",
            "pygments_lexer": "ipython3",
            "version": "3.10"
        }
    },
    "nbformat": 4,
    "nbformat_minor": 5
}