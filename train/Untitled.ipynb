{
 "cells": [
  {
   "cell_type": "code",
   "execution_count": 13,
   "id": "4109844d-16b0-4cfe-8372-c14dfeefdcd6",
   "metadata": {},
   "outputs": [],
   "source": [
    "# keras import stuff\n",
    "import keras\n",
    "from keras.models import Model\n",
    "from keras.layers import Input, concatenate, Conv2D, MaxPooling2D, Conv2DTranspose\n",
    "from keras.layers import ZeroPadding2D\n",
    "#from keras.layers.convolutional import ZeroPadding2D\n",
    "from keras import backend as K"
   ]
  },
  {
   "cell_type": "code",
   "execution_count": 14,
   "id": "062a1312-60cc-44ef-8865-9ec47629992e",
   "metadata": {},
   "outputs": [],
   "source": [
    "# vtm dataset maker\n",
    "from vtm_data import VTK_data"
   ]
  },
  {
   "cell_type": "code",
   "execution_count": 15,
   "id": "4134b450-d229-4afb-a54c-431042fc16a3",
   "metadata": {},
   "outputs": [],
   "source": [
    "# numpy and matplot lib\n",
    "import numpy as np\n",
    "import matplotlib.pyplot as plt"
   ]
  },
  {
   "cell_type": "code",
   "execution_count": 16,
   "id": "ab6bbacd-8371-4ef2-bbd3-17b3d01581c0",
   "metadata": {},
   "outputs": [],
   "source": [
    "# training params\n",
    "batch_size = 32\n",
    "epochs = 100 # number of times through training set"
   ]
  },
  {
   "cell_type": "code",
   "execution_count": 33,
   "id": "5c88dcc9-236d-44c2-9f0d-42c4bff33633",
   "metadata": {},
   "outputs": [],
   "source": [
    "# load dataset\n",
    "dataset = VTK_data(\"../data\")\n",
    "dataset.load_data()"
   ]
  },
  {
   "cell_type": "code",
   "execution_count": 34,
   "id": "e5e473d2-3dbf-4329-8d70-b5e8246df54d",
   "metadata": {},
   "outputs": [],
   "source": [
    "# get train and test split\n",
    "train_geometries = dataset.geometries[0:dataset.split_line]\n",
    "train_steady_flows = dataset.steady_flows[0:dataset.split_line]\n",
    "test_geometries = dataset.geometries[dataset.split_line:-1]\n",
    "test_steady_flows = dataset.steady_flows[dataset.split_line:-1]"
   ]
  },
  {
   "cell_type": "code",
   "execution_count": 35,
   "id": "759a0587-d3c2-4a61-ad1b-cdf5fd98a506",
   "metadata": {},
   "outputs": [
    {
     "name": "stdout",
     "output_type": "stream",
     "text": [
      "0\n"
     ]
    }
   ],
   "source": [
    "print(len(train_geometries))"
   ]
  },
  {
   "cell_type": "code",
   "execution_count": 11,
   "id": "60c38bf8-c5d5-4573-b30d-5f9b33918b7f",
   "metadata": {},
   "outputs": [
    {
     "ename": "ValueError",
     "evalue": "need at least one array to stack",
     "output_type": "error",
     "traceback": [
      "\u001b[0;31m---------------------------------------------------------------------------\u001b[0m",
      "\u001b[0;31mValueError\u001b[0m                                Traceback (most recent call last)",
      "Cell \u001b[0;32mIn[11], line 2\u001b[0m\n\u001b[1;32m      1\u001b[0m \u001b[38;5;66;03m# reshape into single np array\u001b[39;00m\n\u001b[0;32m----> 2\u001b[0m train_geometries \u001b[38;5;241m=\u001b[39m \u001b[43mnp\u001b[49m\u001b[38;5;241;43m.\u001b[39;49m\u001b[43mstack\u001b[49m\u001b[43m(\u001b[49m\u001b[43mtrain_geometries\u001b[49m\u001b[43m,\u001b[49m\u001b[43m \u001b[49m\u001b[43maxis\u001b[49m\u001b[38;5;241;43m=\u001b[39;49m\u001b[38;5;241;43m0\u001b[39;49m\u001b[43m)\u001b[49m\n\u001b[1;32m      3\u001b[0m train_steady_flows \u001b[38;5;241m=\u001b[39m np\u001b[38;5;241m.\u001b[39mstack(train_steady_flows, axis\u001b[38;5;241m=\u001b[39m\u001b[38;5;241m0\u001b[39m)\n\u001b[1;32m      4\u001b[0m test_geometries \u001b[38;5;241m=\u001b[39m np\u001b[38;5;241m.\u001b[39mstack(test_geometries, axis\u001b[38;5;241m=\u001b[39m\u001b[38;5;241m0\u001b[39m)\n",
      "File \u001b[0;32m/opt/conda/lib/python3.10/site-packages/numpy/core/shape_base.py:445\u001b[0m, in \u001b[0;36mstack\u001b[0;34m(arrays, axis, out, dtype, casting)\u001b[0m\n\u001b[1;32m    443\u001b[0m arrays \u001b[38;5;241m=\u001b[39m [asanyarray(arr) \u001b[38;5;28;01mfor\u001b[39;00m arr \u001b[38;5;129;01min\u001b[39;00m arrays]\n\u001b[1;32m    444\u001b[0m \u001b[38;5;28;01mif\u001b[39;00m \u001b[38;5;129;01mnot\u001b[39;00m arrays:\n\u001b[0;32m--> 445\u001b[0m     \u001b[38;5;28;01mraise\u001b[39;00m \u001b[38;5;167;01mValueError\u001b[39;00m(\u001b[38;5;124m'\u001b[39m\u001b[38;5;124mneed at least one array to stack\u001b[39m\u001b[38;5;124m'\u001b[39m)\n\u001b[1;32m    447\u001b[0m shapes \u001b[38;5;241m=\u001b[39m {arr\u001b[38;5;241m.\u001b[39mshape \u001b[38;5;28;01mfor\u001b[39;00m arr \u001b[38;5;129;01min\u001b[39;00m arrays}\n\u001b[1;32m    448\u001b[0m \u001b[38;5;28;01mif\u001b[39;00m \u001b[38;5;28mlen\u001b[39m(shapes) \u001b[38;5;241m!=\u001b[39m \u001b[38;5;241m1\u001b[39m:\n",
      "\u001b[0;31mValueError\u001b[0m: need at least one array to stack"
     ]
    }
   ],
   "source": [
    "# reshape into single np array\n",
    "train_geometries = np.stack(train_geometries, axis=0)\n",
    "train_steady_flows = np.stack(train_steady_flows, axis=0)\n",
    "test_geometries = np.stack(test_geometries, axis=0)\n",
    "test_steady_flows = np.stack(test_steady_flows, axis=0)"
   ]
  },
  {
   "cell_type": "code",
   "execution_count": null,
   "id": "0b9d9d67-f4ef-45af-81c5-6b45e3e8fe7b",
   "metadata": {},
   "outputs": [],
   "source": [
    "# print dataset values\n",
    "print('geometry shape:', train_geometries.shape[1:])\n",
    "print('steady flow shape:', train_steady_flows.shape[1:])\n",
    "print(train_geometries.shape[0], ' train samples')\n",
    "print(test_geometries.shape[0], ' test samples')"
   ]
  },
  {
   "cell_type": "code",
   "execution_count": null,
   "id": "33dd9cda-18eb-410e-8c97-8bb6b424ce1f",
   "metadata": {},
   "outputs": [],
   "source": [
    "# construct model\n",
    "inputs = Input(train_geometries.shape[1:])"
   ]
  },
  {
   "cell_type": "code",
   "execution_count": null,
   "id": "0d5527d7-160b-4f63-b8be-ac8271cd3530",
   "metadata": {},
   "outputs": [],
   "source": [
    "# 2 3x3 convolutions followed by a max pool\n",
    "conv1 = Conv2D(32, (3, 3), activation='relu', padding='same')(inputs)\n",
    "conv1 = Conv2D(32, (3, 3), activation='relu', padding='same')(conv1)\n",
    "pool1 = MaxPooling2D(pool_size=(2, 2))(conv1)"
   ]
  },
  {
   "cell_type": "code",
   "execution_count": null,
   "id": "5bf8c6f4-2684-485c-893a-c35b4cfb4f92",
   "metadata": {},
   "outputs": [],
   "source": [
    "# 2 3x3 convolutions followed by a max pool\n",
    "conv2 = Conv2D(64, (3, 3), activation='relu', padding='same')(pool1)\n",
    "conv2 = Conv2D(64, (3, 3), activation='relu', padding='same')(conv2)\n",
    "pool2 = MaxPooling2D(pool_size=(2, 2))(conv2)"
   ]
  },
  {
   "cell_type": "code",
   "execution_count": null,
   "id": "54814f49-b09f-436a-9469-f0a30ec31f22",
   "metadata": {},
   "outputs": [],
   "source": [
    "# 2 3x3 convolutions followed by a max pool\n",
    "conv3 = Conv2D(128, (3, 3), activation='relu', padding='same')(pool2)\n",
    "conv3 = Conv2D(128, (3, 3), activation='relu', padding='same')(conv3)\n",
    "pool3 = MaxPooling2D(pool_size=(2, 2))(conv3)"
   ]
  },
  {
   "cell_type": "code",
   "execution_count": null,
   "id": "0906b721-0dd8-43fa-b359-d81d66d92675",
   "metadata": {},
   "outputs": [],
   "source": [
    "# 2 3x3 convolutions followed by a max pool\n",
    "conv4 = Conv2D(256, (3, 3), activation='relu', padding='same')(pool3)\n",
    "conv4 = Conv2D(256, (3, 3), activation='relu', padding='same')(conv4)\n",
    "pool4 = MaxPooling2D(pool_size=(2, 2))(conv4)"
   ]
  },
  {
   "cell_type": "code",
   "execution_count": null,
   "id": "bdeff8d8-4381-4da1-a3a6-bcd194c5d33b",
   "metadata": {},
   "outputs": [],
   "source": [
    "# 2 3x3 convolutions\n",
    "conv5 = Conv2D(512, (3, 3), activation='relu', padding='same')(pool4)\n",
    "conv5 = Conv2D(512, (3, 3), activation='relu', padding='same')(conv5)"
   ]
  },
  {
   "cell_type": "code",
   "execution_count": null,
   "id": "856bd8bc-b4b3-4fa4-9615-1c91159e46bc",
   "metadata": {},
   "outputs": [],
   "source": [
    "# 1 3x3 transpose convolution and concate conv4 on the depth dim\n",
    "up6 = concatenate([ZeroPadding2D(((1,0),(1,0)))(Conv2DTranspose(256, (2, 2), strides=(2, 2), padding='same')(conv5)), conv4], axis=3)"
   ]
  },
  {
   "cell_type": "code",
   "execution_count": null,
   "id": "a1bb3c0f-d704-4b7c-9165-529b2d3873e1",
   "metadata": {},
   "outputs": [],
   "source": [
    "# 2 3x3 convolutions\n",
    "conv6 = Conv2D(256, (3, 3), activation='relu', padding='same')(up6)\n",
    "conv6 = Conv2D(256, (3, 3), activation='relu', padding='same')(conv6)"
   ]
  }
 ],
 "metadata": {
  "kernelspec": {
   "display_name": "Python 3 (ipykernel)",
   "language": "python",
   "name": "python3"
  },
  "language_info": {
   "codemirror_mode": {
    "name": "ipython",
    "version": 3
   },
   "file_extension": ".py",
   "mimetype": "text/x-python",
   "name": "python",
   "nbconvert_exporter": "python",
   "pygments_lexer": "ipython3",
   "version": "3.10.14"
  }
 },
 "nbformat": 4,
 "nbformat_minor": 5
}
