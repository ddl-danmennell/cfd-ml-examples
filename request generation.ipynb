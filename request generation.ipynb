{
 "cells": [
  {
   "cell_type": "code",
   "execution_count": 1,
   "id": "605efa96-59a9-4359-bcf1-44b4456a16ed",
   "metadata": {},
   "outputs": [
    {
     "name": "stdout",
     "output_type": "stream",
     "text": [
      "Single request preview (first 5 values):\n",
      "{\n",
      "  \"inputs\": [\n",
      "    [\n",
      "      0.2141,\n",
      "      0.1434,\n",
      "      0.0439,\n",
      "      0.9093,\n",
      "      0.2719\n",
      "    ]\n",
      "  ]\n",
      "}\n"
     ]
    }
   ],
   "source": [
    "import numpy as np\n",
    "import json\n",
    "\n",
    "# Generate sample geometry data (normalized between 0 and 1)\n",
    "sample_geometry = np.random.rand(9812)\n",
    "\n",
    "# Create request object with single geometry\n",
    "single_request = {\n",
    "    \"inputs\": [sample_geometry.tolist()]\n",
    "}\n",
    "\n",
    "# Create request with batch of 3 geometries\n",
    "batch_request = {\n",
    "    \"inputs\": [\n",
    "        np.random.rand(9812).tolist(),\n",
    "        np.random.rand(9812).tolist(),\n",
    "        np.random.rand(9812).tolist()\n",
    "    ]\n",
    "}\n",
    "\n",
    "# Save to files\n",
    "with open('single_request.json', 'w') as f:\n",
    "    json.dump(single_request, f, indent=2)\n",
    "\n",
    "with open('batch_request.json', 'w') as f:\n",
    "    json.dump(batch_request, f, indent=2)\n",
    "\n",
    "# Print example of first few values\n",
    "print(\"Single request preview (first 5 values):\")\n",
    "print(json.dumps({\"inputs\": [[float(f\"{x:.4f}\") for x in sample_geometry[:5]]]}, indent=2))"
   ]
  },
  {
   "cell_type": "code",
   "execution_count": 3,
   "id": "bb17d34b-e323-491b-8deb-89227bf4bf8e",
   "metadata": {},
   "outputs": [
    {
     "name": "stdout",
     "output_type": "stream",
     "text": [
      "Modified request preview (first 5 values):\n",
      "{\n",
      "  \"dataframe_split\": {\n",
      "    \"columns\": [\n",
      "      \"geometry\"\n",
      "    ],\n",
      "    \"data\": [\n",
      "      [\n",
      "        0.3457,\n",
      "        0.2604,\n",
      "        0.9443,\n",
      "        0.2641,\n",
      "        0.1804\n",
      "      ]\n",
      "    ]\n",
      "  }\n",
      "}\n"
     ]
    }
   ],
   "source": [
    "import numpy as np\n",
    "import json\n",
    "\n",
    "# Create modified request format\n",
    "request = {\n",
    "    \"dataframe_split\": {\n",
    "        \"columns\": [\"geometry\"],\n",
    "        \"data\": [np.random.rand(9812).tolist()]\n",
    "    }\n",
    "}\n",
    "\n",
    "print(\"Modified request preview (first 5 values):\")\n",
    "print(json.dumps({\n",
    "    \"dataframe_split\": {\n",
    "        \"columns\": [\"geometry\"],\n",
    "        \"data\": [[float(f\"{x:.4f}\") for x in request[\"dataframe_split\"][\"data\"][0][:5]]]\n",
    "    }\n",
    "}, indent=2))"
   ]
  },
  {
   "cell_type": "code",
   "execution_count": 4,
   "id": "b69fb793-3877-4b7f-b4fa-9058c58a684a",
   "metadata": {},
   "outputs": [
    {
     "name": "stdout",
     "output_type": "stream",
     "text": [
      "{\"inputs\": [[0.4721, 0.3852, 0.5918]]}\n"
     ]
    }
   ],
   "source": [
    "import numpy as np\n",
    "\n",
    "request = {\n",
    "    \"inputs\": np.random.rand(9812).reshape(1, -1).tolist()\n",
    "}\n",
    "\n",
    "# For testing:\n",
    "print(json.dumps({\n",
    "    \"inputs\": [[0.4721, 0.3852, 0.5918]]  # Truncated preview\n",
    "}))"
   ]
  },
  {
   "cell_type": "code",
   "execution_count": null,
   "id": "a0c051a2-23b1-4965-a2f2-66a41410a90a",
   "metadata": {},
   "outputs": [],
   "source": []
  }
 ],
 "metadata": {
  "kernelspec": {
   "display_name": "Python 3 (ipykernel)",
   "language": "python",
   "name": "python3"
  },
  "language_info": {
   "codemirror_mode": {
    "name": "ipython",
    "version": 3
   },
   "file_extension": ".py",
   "mimetype": "text/x-python",
   "name": "python",
   "nbconvert_exporter": "python",
   "pygments_lexer": "ipython3",
   "version": "3.10.14"
  }
 },
 "nbformat": 4,
 "nbformat_minor": 5
}
